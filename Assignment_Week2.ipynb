{
 "cells": [
  {
   "cell_type": "markdown",
   "id": "68e5515d-0b67-48c2-954b-0d033b8ca809",
   "metadata": {},
   "source": [
    "Q1: Comments in Python"
   ]
  },
  {
   "cell_type": "markdown",
   "id": "e942326d-bb6a-46f4-a0e4-c5d9467b3afb",
   "metadata": {},
   "source": [
    "There are 2 types of commenting that we can do in python - single line and multi-line comments. \n",
    "\n",
    "Single line comments are done using # as below: "
   ]
  },
  {
   "cell_type": "code",
   "execution_count": 1,
   "id": "f0738dfb-992a-4a64-9627-749d454c0481",
   "metadata": {},
   "outputs": [],
   "source": [
    "# This is a single line comment"
   ]
  },
  {
   "cell_type": "markdown",
   "id": "1d24b578-5cd2-415d-a11f-1eec2dbb3c18",
   "metadata": {},
   "source": [
    "Multi-line comments are done using \"\"\" ... \"\"\" as below"
   ]
  },
  {
   "cell_type": "code",
   "execution_count": 6,
   "id": "7cd8d675-b036-48f0-97d0-9ff7d8e82ea6",
   "metadata": {
    "collapsed": true,
    "jupyter": {
     "outputs_hidden": true
    },
    "tags": []
   },
   "outputs": [
    {
     "data": {
      "text/plain": [
       "'\\nThis is a comment\\nwritten in\\nmore than just one line\\n'"
      ]
     },
     "execution_count": 6,
     "metadata": {},
     "output_type": "execute_result"
    }
   ],
   "source": [
    "\"\"\"\n",
    "This is a comment\n",
    "written in\n",
    "more than just one line\n",
    "\"\"\""
   ]
  },
  {
   "cell_type": "markdown",
   "id": "3fb8331c-ea26-4014-8629-79a89cc8d0bc",
   "metadata": {},
   "source": [
    "Q2: Variables"
   ]
  },
  {
   "cell_type": "markdown",
   "id": "de6a7a52-cbe4-4d0e-a403-5865112a7737",
   "metadata": {},
   "source": [
    "Variables are containers that can be used to store values of different data types. Python is a dynamically typed language and hence we dont need to specify the data type of the variable when it is being initialized. Some examples of variables are as below: "
   ]
  },
  {
   "cell_type": "code",
   "execution_count": 7,
   "id": "f4d9d193-6eac-4a94-b1bc-01bfdb441302",
   "metadata": {},
   "outputs": [],
   "source": [
    "i = 10 \n",
    "s = \"name\""
   ]
  },
  {
   "cell_type": "markdown",
   "id": "8099d1ba-3793-4142-8b5c-83dccdbfb8de",
   "metadata": {},
   "source": [
    "Q3: Converting between datatypes"
   ]
  },
  {
   "cell_type": "markdown",
   "id": "f3fbabff-d9cd-4144-af59-1a22cc556171",
   "metadata": {},
   "source": [
    "We can convert between datatypes using type casting. Below is an example of converting a string to an integer. "
   ]
  },
  {
   "cell_type": "code",
   "execution_count": 11,
   "id": "03b11fe2-3347-49b6-bb8f-4fbc0f38e293",
   "metadata": {},
   "outputs": [
    {
     "name": "stdout",
     "output_type": "stream",
     "text": [
      "42 is an <class 'int'>\n"
     ]
    }
   ],
   "source": [
    "s = \"42\"\n",
    "i = int(s) # String converted to integer\n",
    "print(str(i) + \" is an \" + str(type(i))) #Integer is converted to string for printing "
   ]
  },
  {
   "cell_type": "markdown",
   "id": "c7ba617b-08c7-4c5c-8b11-dd7a2c1bea07",
   "metadata": {},
   "source": [
    "Q4: Python Script in Command Line"
   ]
  },
  {
   "cell_type": "markdown",
   "id": "97f6799d-71ef-47ca-89f8-1f974795572c",
   "metadata": {},
   "source": [
    "We can create the script in any text editor and store it as a .py file. Then we open the python interpretor and go to the folder where we have the script store. We then execute that script by typing \"python3\" followed by script name."
   ]
  },
  {
   "cell_type": "markdown",
   "id": "2e4cdf05-206c-410f-b135-31a83e4ebc0b",
   "metadata": {},
   "source": [
    "Q5: Sub-List"
   ]
  },
  {
   "cell_type": "code",
   "execution_count": 12,
   "id": "76bb1c8b-496c-4e2b-ae79-85ece7e2e39a",
   "metadata": {},
   "outputs": [
    {
     "data": {
      "text/plain": [
       "[2, 3]"
      ]
     },
     "execution_count": 12,
     "metadata": {},
     "output_type": "execute_result"
    }
   ],
   "source": [
    "my_list = [1,2,3,4,5]\n",
    "my_list[1:3]"
   ]
  },
  {
   "cell_type": "markdown",
   "id": "05fc82cd-1c97-4069-9399-ae6c60d950d3",
   "metadata": {},
   "source": [
    "Q6: Complex Number"
   ]
  },
  {
   "cell_type": "markdown",
   "id": "455c21dc-35d0-4b13-ba10-998e5bf6c4cb",
   "metadata": {},
   "source": [
    "Complex number in mathematics is a notation which has a real part and an imaginary part. Python has a complex datatype to represent complex numbers in the form of a+bj where a is the real part and b is the imaginary part of the number "
   ]
  },
  {
   "cell_type": "code",
   "execution_count": 13,
   "id": "73774c77-280d-42d1-aae9-ece249049da1",
   "metadata": {},
   "outputs": [],
   "source": [
    "c = 4 + 6j"
   ]
  },
  {
   "cell_type": "code",
   "execution_count": 14,
   "id": "e173d474-ec3d-4b88-973c-d6965b163fe3",
   "metadata": {},
   "outputs": [
    {
     "data": {
      "text/plain": [
       "complex"
      ]
     },
     "execution_count": 14,
     "metadata": {},
     "output_type": "execute_result"
    }
   ],
   "source": [
    "type(c)"
   ]
  },
  {
   "cell_type": "markdown",
   "id": "3303dc6a-1363-4d5d-9e20-2d0ff4e6cc38",
   "metadata": {},
   "source": [
    "Q7: Variable Declaration"
   ]
  },
  {
   "cell_type": "code",
   "execution_count": 15,
   "id": "77f56385-9cea-4631-b7d0-aa6de7310abc",
   "metadata": {},
   "outputs": [],
   "source": [
    "age = 25"
   ]
  },
  {
   "cell_type": "markdown",
   "id": "af259968-6659-465c-a728-5107490f6fa9",
   "metadata": {},
   "source": [
    "Q8: Variable Declaration"
   ]
  },
  {
   "cell_type": "code",
   "execution_count": 17,
   "id": "205e488f-ac38-4011-80cc-85088f279056",
   "metadata": {},
   "outputs": [
    {
     "data": {
      "text/plain": [
       "float"
      ]
     },
     "execution_count": 17,
     "metadata": {},
     "output_type": "execute_result"
    }
   ],
   "source": [
    "price = 9.99\n",
    "type(price) # It is a float data type"
   ]
  },
  {
   "cell_type": "markdown",
   "id": "f8d57435-8ba2-4118-849a-f5c5f9537f65",
   "metadata": {},
   "source": [
    "Q9: String Variable"
   ]
  },
  {
   "cell_type": "code",
   "execution_count": 19,
   "id": "80e5a622-dece-4869-a0bd-e546842fed8f",
   "metadata": {},
   "outputs": [
    {
     "name": "stdout",
     "output_type": "stream",
     "text": [
      "Ravi Kumar\n"
     ]
    }
   ],
   "source": [
    "name = \"Ravi Kumar\"\n",
    "print(name)"
   ]
  },
  {
   "cell_type": "markdown",
   "id": "bc9ff7f6-370f-421a-986f-d12635e7bd0d",
   "metadata": {},
   "source": [
    "Q10: Substring"
   ]
  },
  {
   "cell_type": "code",
   "execution_count": 22,
   "id": "05732c21-ec56-4169-9052-41c47de62f9c",
   "metadata": {},
   "outputs": [
    {
     "data": {
      "text/plain": [
       "'World'"
      ]
     },
     "execution_count": 22,
     "metadata": {},
     "output_type": "execute_result"
    }
   ],
   "source": [
    "st = \"Hello, World!\"\n",
    "st[-6:-1]"
   ]
  },
  {
   "cell_type": "markdown",
   "id": "a4974985-0b7d-490f-9a31-ccbd40d64805",
   "metadata": {},
   "source": [
    "Q11: Boolean Variables"
   ]
  },
  {
   "cell_type": "code",
   "execution_count": 23,
   "id": "57e2a39d-1a1a-4c58-b9b4-640bc5043870",
   "metadata": {},
   "outputs": [],
   "source": [
    "is_student = True"
   ]
  }
 ],
 "metadata": {
  "kernelspec": {
   "display_name": "Python 3 (ipykernel)",
   "language": "python",
   "name": "python3"
  },
  "language_info": {
   "codemirror_mode": {
    "name": "ipython",
    "version": 3
   },
   "file_extension": ".py",
   "mimetype": "text/x-python",
   "name": "python",
   "nbconvert_exporter": "python",
   "pygments_lexer": "ipython3",
   "version": "3.10.8"
  }
 },
 "nbformat": 4,
 "nbformat_minor": 5
}
