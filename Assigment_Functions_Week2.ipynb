{
 "cells": [
  {
   "cell_type": "markdown",
   "id": "8cfe8dbd-4a37-49a1-80f9-e0025010cf16",
   "metadata": {},
   "source": [
    "Q1: Functions"
   ]
  },
  {
   "cell_type": "markdown",
   "id": "ce1b296c-ea81-4e83-8d59-cae4a03fe77e",
   "metadata": {},
   "source": [
    "The key def is used to create functions. "
   ]
  },
  {
   "cell_type": "code",
   "execution_count": 5,
   "id": "f2874057-04df-4ed9-a024-5be43d2cc519",
   "metadata": {},
   "outputs": [],
   "source": [
    "#Below function returns the list of odd numbers between 1 to 25\n",
    "def odd():\n",
    "    lst = []\n",
    "    for i in range(1,26):\n",
    "        if i%2!=0:\n",
    "            lst.append(i)\n",
    "    return lst"
   ]
  },
  {
   "cell_type": "code",
   "execution_count": 6,
   "id": "b8b724ff-5a46-420f-b2a1-bfec4a0fdd5f",
   "metadata": {},
   "outputs": [],
   "source": [
    "list_of_odd = odd()"
   ]
  },
  {
   "cell_type": "markdown",
   "id": "ce5a21a2-d627-4ce8-bbe9-8ee696a8a254",
   "metadata": {},
   "source": [
    "list_of_odd"
   ]
  },
  {
   "cell_type": "markdown",
   "id": "b0607332-9144-47b6-97fe-67b3fa4c6cac",
   "metadata": {},
   "source": [
    "Q2: Variable number of arguments in function"
   ]
  },
  {
   "cell_type": "markdown",
   "id": "4d3e9057-10be-4dcb-8100-ecd178ae82d8",
   "metadata": {},
   "source": [
    "*args and **kwargs are used to pass variable number of arguments to a function call."
   ]
  },
  {
   "cell_type": "code",
   "execution_count": 9,
   "id": "e979a979-a5ee-4987-9f6f-e4cfb36412d4",
   "metadata": {},
   "outputs": [
    {
     "data": {
      "text/plain": [
       "(1, 2, 3, 4)"
      ]
     },
     "execution_count": 9,
     "metadata": {},
     "output_type": "execute_result"
    }
   ],
   "source": [
    "# Example of *args - Below function takes a variable number of arguments and returns the same as tuple\n",
    "def func(*args):\n",
    "    return args\n",
    "func(1,2,3,4)"
   ]
  },
  {
   "cell_type": "code",
   "execution_count": 10,
   "id": "f853f5b2-560a-4b10-86c0-241595cf7346",
   "metadata": {},
   "outputs": [
    {
     "data": {
      "text/plain": [
       "{'a': 4, 'b': 5, 'c': 19}"
      ]
     },
     "execution_count": 10,
     "metadata": {},
     "output_type": "execute_result"
    }
   ],
   "source": [
    "# Example of **kwargs - This is used to pass variable number of names arguments. Below func takes them as input\n",
    "# and returns them as a dictionary of key-value pairs\n",
    "def func1(**kwargs):\n",
    "    return kwargs\n",
    "\n",
    "func1(a = 4,b=5,c=19)"
   ]
  },
  {
   "cell_type": "markdown",
   "id": "326b48aa-60a9-4da1-87dd-a4629607f698",
   "metadata": {},
   "source": [
    "Q3: Iterator"
   ]
  },
  {
   "cell_type": "markdown",
   "id": "99c753df-6823-4889-a15b-4a04110cba87",
   "metadata": {},
   "source": [
    "Iterator is an object that is used to iterate through the elements of a collection such as list. The method used to initialize the iterator object is iter() and the method used for iteration is next()"
   ]
  },
  {
   "cell_type": "code",
   "execution_count": 14,
   "id": "dfb9bb6a-2906-4ee6-86d7-5787c48b99fa",
   "metadata": {},
   "outputs": [
    {
     "name": "stdout",
     "output_type": "stream",
     "text": [
      "2\n",
      "4\n",
      "6\n",
      "8\n",
      "10\n"
     ]
    }
   ],
   "source": [
    "lst = [2,4,6,8,10,12,14,16,18,20]\n",
    "itr = iter(lst)\n",
    "for i in range(5):\n",
    "    print(next(itr))"
   ]
  },
  {
   "cell_type": "markdown",
   "id": "a9a5aa30-a0ca-4e36-b041-3377b3505937",
   "metadata": {},
   "source": [
    "Q4: Generator Functions"
   ]
  },
  {
   "cell_type": "markdown",
   "id": "8f0a448d-01fc-4606-a03a-ec8b6ef95783",
   "metadata": {},
   "source": [
    "Generator functions are similar to usual functions in python but instead of returning the complete result of the function execution as a normal function does, they can yield the results in smaller chunks at a time. This makes the generator functions efficient with respect to memory or space utilization. yield keyword is used instead of return keyword to return back results from the function in the form of smaller manageable chunks. An example of a generator function is as below: "
   ]
  },
  {
   "cell_type": "code",
   "execution_count": 22,
   "id": "af724391-8914-4522-8cb1-d1e72f923e90",
   "metadata": {},
   "outputs": [],
   "source": [
    "def test_fib(n):\n",
    "    a,b = 0,1\n",
    "    for i in range(n):\n",
    "        yield a\n",
    "        a,b = b, a+b\n",
    "#The above generator function returns a generator object which needs to be iterated over using a for loop as below"
   ]
  },
  {
   "cell_type": "code",
   "execution_count": 23,
   "id": "8f355365-0c1d-4cf8-82fe-cacc5379d0af",
   "metadata": {},
   "outputs": [
    {
     "name": "stdout",
     "output_type": "stream",
     "text": [
      "0\n",
      "1\n",
      "1\n",
      "2\n",
      "3\n",
      "5\n",
      "8\n",
      "13\n",
      "21\n",
      "34\n"
     ]
    }
   ],
   "source": [
    "for i in test_fib(10):\n",
    "    print(i)"
   ]
  },
  {
   "cell_type": "markdown",
   "id": "8258eac6-749d-4136-855b-387711413ad1",
   "metadata": {},
   "source": [
    "Q5: Prime Numbers"
   ]
  },
  {
   "cell_type": "code",
   "execution_count": 35,
   "id": "bde2f259-651d-4a14-a1b3-9d276425261e",
   "metadata": {},
   "outputs": [],
   "source": [
    "# Below function determines whether a number is prime or not\n",
    "def prime(n):\n",
    "    if (n==0 or n==1):\n",
    "        return False\n",
    "    for i in range(2,n):\n",
    "        if n%i ==0:\n",
    "            return False\n",
    "    return True        "
   ]
  },
  {
   "cell_type": "code",
   "execution_count": 39,
   "id": "75cc287f-4463-4187-bdfc-15f302464e28",
   "metadata": {},
   "outputs": [],
   "source": [
    "# Below is a generator function that generates the prime numbers below a certain number l\n",
    "def prime_lst(l):\n",
    "    for i in range(l):\n",
    "        if prime(i):\n",
    "            yield i"
   ]
  },
  {
   "cell_type": "code",
   "execution_count": 42,
   "id": "66656a87-faa9-4807-a4c3-54ce6cbf1a3f",
   "metadata": {},
   "outputs": [],
   "source": [
    "# Below statement creates a generator object\n",
    "generator = prime_lst(1000)"
   ]
  },
  {
   "cell_type": "code",
   "execution_count": 43,
   "id": "822091d4-8b9e-4ce1-91fb-74cf75e945b2",
   "metadata": {},
   "outputs": [
    {
     "name": "stdout",
     "output_type": "stream",
     "text": [
      "2\n",
      "3\n",
      "5\n",
      "7\n",
      "11\n",
      "13\n",
      "17\n",
      "19\n",
      "23\n",
      "29\n",
      "31\n",
      "37\n",
      "41\n",
      "43\n",
      "47\n",
      "53\n",
      "59\n",
      "61\n",
      "67\n",
      "71\n"
     ]
    }
   ],
   "source": [
    "for i in range(20):\n",
    "    print(next(generator))"
   ]
  },
  {
   "cell_type": "code",
   "execution_count": null,
   "id": "0b05696a-09e9-4b58-96f7-eb5a42e13b72",
   "metadata": {},
   "outputs": [],
   "source": []
  }
 ],
 "metadata": {
  "kernelspec": {
   "display_name": "Python 3 (ipykernel)",
   "language": "python",
   "name": "python3"
  },
  "language_info": {
   "codemirror_mode": {
    "name": "ipython",
    "version": 3
   },
   "file_extension": ".py",
   "mimetype": "text/x-python",
   "name": "python",
   "nbconvert_exporter": "python",
   "pygments_lexer": "ipython3",
   "version": "3.10.8"
  }
 },
 "nbformat": 4,
 "nbformat_minor": 5
}
