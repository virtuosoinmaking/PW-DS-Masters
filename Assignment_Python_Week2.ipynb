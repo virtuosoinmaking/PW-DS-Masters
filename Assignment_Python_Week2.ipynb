{
 "cells": [
  {
   "cell_type": "markdown",
   "id": "c636cde1-5d00-4005-b834-c8eea9f843d2",
   "metadata": {},
   "source": [
    "Q1: Sorting tuple using Lambda Functions"
   ]
  },
  {
   "cell_type": "code",
   "execution_count": 4,
   "id": "d66a1ad3-962a-4141-8746-42c2a0775090",
   "metadata": {},
   "outputs": [],
   "source": [
    "tup = [('Sachin Tendulkar', 34357), ('Ricky Ponting',27483),('Jack Kallis', 25534), ('Virat Kohli',24936)]\n",
    "\n",
    "tup.sort(key = lambda x:x[1])"
   ]
  },
  {
   "cell_type": "code",
   "execution_count": 5,
   "id": "9af25778-666e-4cd0-9f0e-5af913800011",
   "metadata": {},
   "outputs": [
    {
     "data": {
      "text/plain": [
       "[('Virat Kohli', 24936),\n",
       " ('Jack Kallis', 25534),\n",
       " ('Ricky Ponting', 27483),\n",
       " ('Sachin Tendulkar', 34357)]"
      ]
     },
     "execution_count": 5,
     "metadata": {},
     "output_type": "execute_result"
    }
   ],
   "source": [
    "tup"
   ]
  },
  {
   "cell_type": "markdown",
   "id": "04f422fa-e10c-4ea6-9093-e67e08b36e1b",
   "metadata": {},
   "source": [
    "Q2: Lambda and Map function"
   ]
  },
  {
   "cell_type": "code",
   "execution_count": 6,
   "id": "d453e625-c45f-44fb-951f-c58d1ca3e5e7",
   "metadata": {},
   "outputs": [
    {
     "data": {
      "text/plain": [
       "[1, 4, 9, 16, 25, 36, 49, 64, 81, 100]"
      ]
     },
     "execution_count": 6,
     "metadata": {},
     "output_type": "execute_result"
    }
   ],
   "source": [
    "lst = [1,2,3,4,5,6,7,8,9,10]\n",
    "list(map(lambda x:x**2, lst))"
   ]
  },
  {
   "cell_type": "markdown",
   "id": "b0f34dd7-8565-42a7-bc4d-d9a2a6d4986c",
   "metadata": {},
   "source": [
    "Q3: Convert to tuple of strings"
   ]
  },
  {
   "cell_type": "code",
   "execution_count": 8,
   "id": "2c25b603-f056-4cdd-8530-2c8a67590672",
   "metadata": {},
   "outputs": [
    {
     "data": {
      "text/plain": [
       "('1', '2', '3', '4', '5', '6', '7', '8', '9', '10')"
      ]
     },
     "execution_count": 8,
     "metadata": {},
     "output_type": "execute_result"
    }
   ],
   "source": [
    "lst = [1,2,3,4,5,6,7,8,9,10]\n",
    "tuple(map(lambda x:str(x), lst))"
   ]
  },
  {
   "cell_type": "markdown",
   "id": "afb45f4e-2064-476f-8057-1d9f29e4db87",
   "metadata": {},
   "source": [
    "Q4: Reduce Function"
   ]
  },
  {
   "cell_type": "code",
   "execution_count": 9,
   "id": "425c671c-5348-4470-a89d-5b5a92caa0c8",
   "metadata": {},
   "outputs": [],
   "source": [
    "lst = list(range(1,26))"
   ]
  },
  {
   "cell_type": "code",
   "execution_count": 11,
   "id": "c9dc7ae0-5742-4a2b-bc23-297f53050f0e",
   "metadata": {},
   "outputs": [
    {
     "data": {
      "text/plain": [
       "15511210043330985984000000"
      ]
     },
     "execution_count": 11,
     "metadata": {},
     "output_type": "execute_result"
    }
   ],
   "source": [
    "from functools import reduce\n",
    "reduce(lambda x,y:x*y, lst)"
   ]
  },
  {
   "cell_type": "markdown",
   "id": "6055d9e2-b363-4e81-8b12-1150d46188a2",
   "metadata": {},
   "source": [
    "Q5: Filter Functions"
   ]
  },
  {
   "cell_type": "code",
   "execution_count": 12,
   "id": "18b343ff-b3b4-4cd8-bae0-b254b8332fe1",
   "metadata": {},
   "outputs": [
    {
     "data": {
      "text/plain": [
       "[6, 60, 90, 120]"
      ]
     },
     "execution_count": 12,
     "metadata": {},
     "output_type": "execute_result"
    }
   ],
   "source": [
    "lst = [2,3,6,9,27,60,90,120,55,46]\n",
    "list(filter(lambda x: x%2==0 and x%3==0, lst))"
   ]
  },
  {
   "cell_type": "markdown",
   "id": "abdf8519-e48c-4d93-b700-8eca2ec4086b",
   "metadata": {},
   "source": [
    "Q6: Palindrome"
   ]
  },
  {
   "cell_type": "code",
   "execution_count": 13,
   "id": "9a864186-bdcf-47a6-9838-0a24bbbd98c0",
   "metadata": {},
   "outputs": [],
   "source": [
    "lst = [\"python\",\"php\",\"aba\",\"radar\",\"level\"]"
   ]
  },
  {
   "cell_type": "code",
   "execution_count": 14,
   "id": "81ef86ab-b79a-4a90-bb80-973a070bed54",
   "metadata": {},
   "outputs": [
    {
     "data": {
      "text/plain": [
       "['php', 'aba', 'radar', 'level']"
      ]
     },
     "execution_count": 14,
     "metadata": {},
     "output_type": "execute_result"
    }
   ],
   "source": [
    "list(filter(lambda x: x==x[::-1], lst))"
   ]
  }
 ],
 "metadata": {
  "kernelspec": {
   "display_name": "Python 3 (ipykernel)",
   "language": "python",
   "name": "python3"
  },
  "language_info": {
   "codemirror_mode": {
    "name": "ipython",
    "version": 3
   },
   "file_extension": ".py",
   "mimetype": "text/x-python",
   "name": "python",
   "nbconvert_exporter": "python",
   "pygments_lexer": "ipython3",
   "version": "3.10.8"
  }
 },
 "nbformat": 4,
 "nbformat_minor": 5
}
