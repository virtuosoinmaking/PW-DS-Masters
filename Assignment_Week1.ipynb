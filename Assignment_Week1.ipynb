{
 "cells": [
  {
   "cell_type": "markdown",
   "id": "6710bd27-4c97-4a56-9218-00cff62ea594",
   "metadata": {},
   "source": [
    "Q1 - Creating Variables"
   ]
  },
  {
   "cell_type": "code",
   "execution_count": 1,
   "id": "7f03fb14-c7f4-4740-afa4-df6370bc38f9",
   "metadata": {},
   "outputs": [],
   "source": [
    "str1 = \"Name\" # String Variable\n",
    "lst = [1,2,\"ABC\"] # List\n",
    "tup = (1,2,3) # Tuple\n",
    "fl = 2.34 # float "
   ]
  },
  {
   "cell_type": "markdown",
   "id": "f1a909ab-884a-441d-bcae-7a5a4abb609f",
   "metadata": {},
   "source": [
    "Q2 - Data Types"
   ]
  },
  {
   "cell_type": "code",
   "execution_count": 8,
   "id": "fb52e1b4-738c-4b8f-bdea-fdb2619bc7b6",
   "metadata": {},
   "outputs": [],
   "source": [
    "var1 = '' # This will be string \n",
    "var2 = '[DS,ML,Python]' # This will be string\n",
    "var3 = ['DS','ML','Python'] #This will be a list\n",
    "var4 = 1 #This will be an int"
   ]
  },
  {
   "cell_type": "code",
   "execution_count": 6,
   "id": "ff1c559f-1207-4b63-bf39-efc028a8fdc8",
   "metadata": {},
   "outputs": [
    {
     "data": {
      "text/plain": [
       "str"
      ]
     },
     "execution_count": 6,
     "metadata": {},
     "output_type": "execute_result"
    }
   ],
   "source": [
    "type(var1)"
   ]
  },
  {
   "cell_type": "code",
   "execution_count": 4,
   "id": "c1ce7f38-fb3c-496e-9dad-0462a610478a",
   "metadata": {},
   "outputs": [
    {
     "data": {
      "text/plain": [
       "str"
      ]
     },
     "execution_count": 4,
     "metadata": {},
     "output_type": "execute_result"
    }
   ],
   "source": [
    "type(var2)"
   ]
  },
  {
   "cell_type": "code",
   "execution_count": 5,
   "id": "24e8d401-bcad-4b93-84d2-76fb12a721b3",
   "metadata": {},
   "outputs": [
    {
     "data": {
      "text/plain": [
       "list"
      ]
     },
     "execution_count": 5,
     "metadata": {},
     "output_type": "execute_result"
    }
   ],
   "source": [
    "type(var3)"
   ]
  },
  {
   "cell_type": "code",
   "execution_count": 7,
   "id": "587ee2df-54ec-4d0a-a796-b5a14582ca89",
   "metadata": {},
   "outputs": [
    {
     "data": {
      "text/plain": [
       "int"
      ]
     },
     "execution_count": 7,
     "metadata": {},
     "output_type": "execute_result"
    }
   ],
   "source": [
    "type(var4)"
   ]
  },
  {
   "cell_type": "markdown",
   "id": "a9263f73-9185-403f-b72c-529ea9c14eb9",
   "metadata": {},
   "source": [
    "Q3: Operators"
   ]
  },
  {
   "cell_type": "code",
   "execution_count": 9,
   "id": "c7419304-0572-4749-96c1-7df0d9b75ad9",
   "metadata": {},
   "outputs": [
    {
     "data": {
      "text/plain": [
       "0.5"
      ]
     },
     "execution_count": 9,
     "metadata": {},
     "output_type": "execute_result"
    }
   ],
   "source": [
    "# Divsion operator\n",
    "2/4"
   ]
  },
  {
   "cell_type": "code",
   "execution_count": 10,
   "id": "87cb5be5-6e6d-4f6c-80ce-29259444fa31",
   "metadata": {},
   "outputs": [
    {
     "data": {
      "text/plain": [
       "1"
      ]
     },
     "execution_count": 10,
     "metadata": {},
     "output_type": "execute_result"
    }
   ],
   "source": [
    "# Modulo operator - returns the reminder\n",
    "3%2"
   ]
  },
  {
   "cell_type": "code",
   "execution_count": 11,
   "id": "229cb2aa-c6e1-4446-96b5-2793328383e1",
   "metadata": {},
   "outputs": [
    {
     "data": {
      "text/plain": [
       "2"
      ]
     },
     "execution_count": 11,
     "metadata": {},
     "output_type": "execute_result"
    }
   ],
   "source": [
    "# Integer Division - returns the integer quotient \n",
    "5//2"
   ]
  },
  {
   "cell_type": "code",
   "execution_count": 12,
   "id": "30860d1f-6ad1-4f9b-9f1f-2e3af09f5a42",
   "metadata": {},
   "outputs": [
    {
     "data": {
      "text/plain": [
       "8"
      ]
     },
     "execution_count": 12,
     "metadata": {},
     "output_type": "execute_result"
    }
   ],
   "source": [
    "# Exponentation operator \n",
    "2 ** 3"
   ]
  },
  {
   "cell_type": "markdown",
   "id": "451efd71-e704-4e14-8056-a4317b396b2d",
   "metadata": {},
   "source": [
    "Q4: List and For Loop"
   ]
  },
  {
   "cell_type": "code",
   "execution_count": 13,
   "id": "1226b781-531d-4eee-b51b-c8cb604c4a1c",
   "metadata": {},
   "outputs": [
    {
     "name": "stdout",
     "output_type": "stream",
     "text": [
      "1 <class 'int'>\n",
      "2 <class 'int'>\n",
      "3 <class 'int'>\n",
      "4 <class 'int'>\n",
      "Name <class 'str'>\n",
      "Age <class 'str'>\n",
      "3.2 <class 'float'>\n",
      "True <class 'bool'>\n",
      "9 <class 'int'>\n",
      "10 <class 'int'>\n"
     ]
    }
   ],
   "source": [
    "lst = [1,2,3,4,'Name','Age', 3.2,True,9,10]\n",
    "for i in lst:\n",
    "    print(i, type(i))"
   ]
  },
  {
   "cell_type": "markdown",
   "id": "31410aea-4931-4055-8582-bfa5b5e7c24d",
   "metadata": {},
   "source": [
    "Q5: Division by while loop"
   ]
  },
  {
   "cell_type": "code",
   "execution_count": 18,
   "id": "a8224547-3893-456e-add7-c55868a02f2c",
   "metadata": {},
   "outputs": [
    {
     "name": "stdin",
     "output_type": "stream",
     "text": [
      "Enter the dividend 24\n"
     ]
    }
   ],
   "source": [
    "A = int(input(\"Enter the dividend\"))"
   ]
  },
  {
   "cell_type": "code",
   "execution_count": 19,
   "id": "f5580d8e-5ea5-48e8-b682-5e541fe9d451",
   "metadata": {},
   "outputs": [
    {
     "name": "stdin",
     "output_type": "stream",
     "text": [
      "Enter the divisor 4\n"
     ]
    }
   ],
   "source": [
    "B = int(input(\"Enter the divisor\"))"
   ]
  },
  {
   "cell_type": "code",
   "execution_count": 20,
   "id": "de78e4dd-2b99-43ee-8967-1f0827edc9ff",
   "metadata": {},
   "outputs": [
    {
     "name": "stdout",
     "output_type": "stream",
     "text": [
      "A is divisible by B and the quotient is  6\n"
     ]
    }
   ],
   "source": [
    "quotient = 0\n",
    "while(A>=B):\n",
    "    A = A - B\n",
    "    quotient +=1\n",
    "if(A==0):\n",
    "    print(\"A is divisible by B and the quotient is \", quotient)\n",
    "else:\n",
    "    print(\"A is not exactly divisible by B\")\n"
   ]
  },
  {
   "cell_type": "markdown",
   "id": "46873634-94ab-4b13-9511-9f1caf189add",
   "metadata": {},
   "source": [
    "Q6: Divisibility by 3"
   ]
  },
  {
   "cell_type": "code",
   "execution_count": 21,
   "id": "c0bae471-f9ce-4d4d-8b3e-12f1b3806d39",
   "metadata": {},
   "outputs": [],
   "source": [
    "lst = list(range(25))"
   ]
  },
  {
   "cell_type": "code",
   "execution_count": 23,
   "id": "2fe3af69-27d2-4832-9d66-17dbd32f847c",
   "metadata": {},
   "outputs": [
    {
     "name": "stdout",
     "output_type": "stream",
     "text": [
      "0 is divisible by 3\n",
      "1 is not divisble by 3\n",
      "2 is not divisble by 3\n",
      "3 is divisible by 3\n",
      "4 is not divisble by 3\n",
      "5 is not divisble by 3\n",
      "6 is divisible by 3\n",
      "7 is not divisble by 3\n",
      "8 is not divisble by 3\n",
      "9 is divisible by 3\n",
      "10 is not divisble by 3\n",
      "11 is not divisble by 3\n",
      "12 is divisible by 3\n",
      "13 is not divisble by 3\n",
      "14 is not divisble by 3\n",
      "15 is divisible by 3\n",
      "16 is not divisble by 3\n",
      "17 is not divisble by 3\n",
      "18 is divisible by 3\n",
      "19 is not divisble by 3\n",
      "20 is not divisble by 3\n",
      "21 is divisible by 3\n",
      "22 is not divisble by 3\n",
      "23 is not divisble by 3\n",
      "24 is divisible by 3\n"
     ]
    }
   ],
   "source": [
    "for i in lst:\n",
    "    if (i%3 == 0):\n",
    "        print(f\"{i} is divisible by 3\")\n",
    "    else:\n",
    "        print(f\"{i} is not divisble by 3\")"
   ]
  },
  {
   "cell_type": "markdown",
   "id": "b450e935-1a3b-471f-b8ab-a8662067d422",
   "metadata": {},
   "source": [
    "Q7: Mutable vs. Immutable\n",
    "\n",
    "Mutable data type is one in which we can modify the individual elements of the data once it has been created. Immutable datatypes are those where we cannot modify the individual elements of the data once it is created. We can only create a new version of the data. \n",
    "\n",
    "List is a mutable datatype whereas string is immutable and if we try to modify a string in-place it will give an error as below. "
   ]
  },
  {
   "cell_type": "code",
   "execution_count": 25,
   "id": "285b1f00-ca90-46bc-bb87-fb4a0eb5a73d",
   "metadata": {},
   "outputs": [
    {
     "data": {
      "text/plain": [
       "[2, 5, 4]"
      ]
     },
     "execution_count": 25,
     "metadata": {},
     "output_type": "execute_result"
    }
   ],
   "source": [
    "lst = [2,3,4]\n",
    "lst[1] = 5\n",
    "lst # Second element is modified to 5 - Mutable Data type"
   ]
  },
  {
   "cell_type": "code",
   "execution_count": 27,
   "id": "71442439-a309-46d2-94ca-f34f047e5def",
   "metadata": {},
   "outputs": [
    {
     "ename": "TypeError",
     "evalue": "'str' object does not support item assignment",
     "output_type": "error",
     "traceback": [
      "\u001b[0;31m---------------------------------------------------------------------------\u001b[0m",
      "\u001b[0;31mTypeError\u001b[0m                                 Traceback (most recent call last)",
      "Cell \u001b[0;32mIn[27], line 2\u001b[0m\n\u001b[1;32m      1\u001b[0m str1 \u001b[38;5;241m=\u001b[39m \u001b[38;5;124m\"\u001b[39m\u001b[38;5;124mName\u001b[39m\u001b[38;5;124m\"\u001b[39m\n\u001b[0;32m----> 2\u001b[0m \u001b[43mstr1\u001b[49m\u001b[43m[\u001b[49m\u001b[38;5;241;43m2\u001b[39;49m\u001b[43m]\u001b[49m \u001b[38;5;241m=\u001b[39m \u001b[38;5;124m'\u001b[39m\u001b[38;5;124md\u001b[39m\u001b[38;5;124m'\u001b[39m \u001b[38;5;66;03m# Will throw an error - Immutable data type\u001b[39;00m\n",
      "\u001b[0;31mTypeError\u001b[0m: 'str' object does not support item assignment"
     ]
    }
   ],
   "source": [
    "str1 = \"Name\"\n",
    "str1[2] = 'd' # Will throw an error - Immutable data type"
   ]
  }
 ],
 "metadata": {
  "kernelspec": {
   "display_name": "Python 3 (ipykernel)",
   "language": "python",
   "name": "python3"
  },
  "language_info": {
   "codemirror_mode": {
    "name": "ipython",
    "version": 3
   },
   "file_extension": ".py",
   "mimetype": "text/x-python",
   "name": "python",
   "nbconvert_exporter": "python",
   "pygments_lexer": "ipython3",
   "version": "3.10.8"
  }
 },
 "nbformat": 4,
 "nbformat_minor": 5
}
